{
 "cells": [
  {
   "cell_type": "code",
   "execution_count": null,
   "metadata": {},
   "outputs": [],
   "source": [
    "# https://pypi.org/project/pytesseract/#:~:text=Python%2Dtesseract%20is%20an%20optical,for%20Google's%20Tesseract%2DOCR%20Engine."
   ]
  },
  {
   "cell_type": "code",
   "execution_count": null,
   "metadata": {},
   "outputs": [],
   "source": [
    "# https://github.com/UB-Mannheim/tesseract/wiki"
   ]
  },
  {
   "cell_type": "code",
   "execution_count": null,
   "metadata": {},
   "outputs": [],
   "source": [
    "# !pip install pytesseract"
   ]
  },
  {
   "cell_type": "code",
   "execution_count": 15,
   "metadata": {},
   "outputs": [],
   "source": [
    "import cv2\n",
    "import pytesseract"
   ]
  },
  {
   "cell_type": "code",
   "execution_count": 16,
   "metadata": {},
   "outputs": [],
   "source": [
    "#refer to our executable file\n",
    "pytesseract.pytesseract.tesseract_cmd = r'C:\\Program Files\\Tesseract-OCR\\tesseract.exe'"
   ]
  },
  {
   "cell_type": "code",
   "execution_count": 17,
   "metadata": {},
   "outputs": [],
   "source": [
    "img = cv2.imread(\"1.png\")"
   ]
  },
  {
   "cell_type": "code",
   "execution_count": 18,
   "metadata": {},
   "outputs": [
    {
     "name": "stdout",
     "output_type": "stream",
     "text": [
      "Al SCIENCES\n",
      "\n",
      "1234567891011 12\n",
      "13\n",
      "\n"
     ]
    }
   ],
   "source": [
    "# Simple image to string\n",
    "print(pytesseract.image_to_string(img))"
   ]
  },
  {
   "cell_type": "code",
   "execution_count": 19,
   "metadata": {},
   "outputs": [
    {
     "name": "stdout",
     "output_type": "stream",
     "text": [
      "A 496 564 561 640 0\n",
      "l 573 564 583 640 0\n",
      "S 624 563 671 641 0\n",
      "C 681 563 736 641 0\n",
      "I 749 564 759 640 0\n",
      "E 779 564 821 640 0\n",
      "N 838 564 895 640 0\n",
      "C 911 563 966 641 0\n",
      "E 979 564 1021 640 0\n",
      "S 1032 563 1079 641 0\n",
      "1 199 305 243 381 0\n",
      "2 284 305 331 382 0\n",
      "3 371 304 419 382 0\n",
      "4 456 305 510 381 0\n",
      "5 547 304 595 381 0\n",
      "6 635 304 685 382 0\n",
      "7 723 305 772 381 0\n",
      "8 810 304 861 382 0\n",
      "9 898 304 948 382 0\n",
      "1 991 305 1035 381 0\n",
      "0 1046 304 1099 382 0\n",
      "1 1140 305 1184 381 0\n",
      "1 1201 305 1394 382 0\n",
      "1 1268 274 1334 386 0\n",
      "2 1333 274 1399 386 0\n",
      "1 199 159 243 235 0\n",
      "3 256 158 304 236 0\n",
      "\n"
     ]
    }
   ],
   "source": [
    "# Get bounding box estimates\n",
    "# A 141 200 207 276 0 =>1) Letter 2)x point 3)y point 4)width 5)height 6)conf\n",
    "print(pytesseract.image_to_boxes(img))"
   ]
  },
  {
   "cell_type": "code",
   "execution_count": 20,
   "metadata": {},
   "outputs": [
    {
     "name": "stdout",
     "output_type": "stream",
     "text": [
      "794 1615 3\n"
     ]
    }
   ],
   "source": [
    "hImg, wImg, _ = img.shape\n",
    "print(hImg,wImg,_) # width ,height,  channel\n",
    "boxes = pytesseract.image_to_boxes(img)\n",
    "for b in boxes.splitlines():\n",
    "    b = b.split(' ')\n",
    "    x,y,w,h = int(b[1]),int(b[2]),int(b[3]),int(b[4])\n",
    "#     cv2.rectangle(img,(x,y),(x+w,y+h),(0,0,255),1) #draw a box (0,0,255)=> Red ,thickness, \n",
    "    #we have boxes but something is going wrong,not in the order that we expected x is fine but height is opposite so we can \n",
    "    # subtract our image height from y \n",
    "    \n",
    "    cv2.rectangle(img,(x,hImg-y),(w,hImg-h),(0,0,255),3)\n",
    "    cv2.putText(img,b[0],(x,hImg-y+25),cv2.FONT_HERSHEY_COMPLEX,1,(50,50,255),2) #FONT_HERSHEY_COMPLEX => font size"
   ]
  },
  {
   "cell_type": "code",
   "execution_count": 21,
   "metadata": {},
   "outputs": [
    {
     "data": {
      "text/plain": [
       "-1"
      ]
     },
     "execution_count": 21,
     "metadata": {},
     "output_type": "execute_result"
    }
   ],
   "source": [
    "cv2.imshow('Images',img)\n",
    "cv2.waitKey(0)"
   ]
  },
  {
   "cell_type": "code",
   "execution_count": null,
   "metadata": {},
   "outputs": [],
   "source": []
  },
  {
   "cell_type": "code",
   "execution_count": null,
   "metadata": {},
   "outputs": [],
   "source": []
  },
  {
   "cell_type": "code",
   "execution_count": null,
   "metadata": {},
   "outputs": [],
   "source": []
  }
 ],
 "metadata": {
  "kernelspec": {
   "display_name": "Python 3",
   "language": "python",
   "name": "python3"
  },
  "language_info": {
   "codemirror_mode": {
    "name": "ipython",
    "version": 3
   },
   "file_extension": ".py",
   "mimetype": "text/x-python",
   "name": "python",
   "nbconvert_exporter": "python",
   "pygments_lexer": "ipython3",
   "version": "3.8.3"
  }
 },
 "nbformat": 4,
 "nbformat_minor": 5
}
